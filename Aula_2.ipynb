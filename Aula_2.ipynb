{
  "nbformat": 4,
  "nbformat_minor": 0,
  "metadata": {
    "colab": {
      "provenance": []
    },
    "kernelspec": {
      "name": "python3",
      "display_name": "Python 3"
    },
    "language_info": {
      "name": "python"
    }
  },
  "cells": [
    {
      "cell_type": "code",
      "execution_count": null,
      "metadata": {
        "id": "B329Ie0frpaZ"
      },
      "outputs": [],
      "source": [
        "# Python Exercises\n",
        "# Implement the algorithms asked and analyse its time and space complexity"
      ]
    },
    {
      "cell_type": "code",
      "source": [
        "# Task: Implement a function that returns the first element of a list\n",
        "def get_first_element(lst):\n",
        "    pass\n",
        "\n",
        "print(get_first_element([1, 2, 3, 4]))"
      ],
      "metadata": {
        "id": "UqqQAnmyruoZ"
      },
      "execution_count": null,
      "outputs": []
    },
    {
      "cell_type": "code",
      "source": [
        "# Task: Implement a function that calculates the sum of elements in a list\n",
        "def sum_list(lst):\n",
        "    pass\n",
        "\n",
        "print(sum_list([1, 2, 3, 4, 5]))"
      ],
      "metadata": {
        "id": "Ah6C-HCJr5V9"
      },
      "execution_count": null,
      "outputs": []
    },
    {
      "cell_type": "code",
      "source": [
        "# Task: Implement a function that generates all possible triplets in a list\n",
        "def generate_triplets(lst):\n",
        "    pass\n",
        "\n",
        "print(generate_triplets([1, 2, 3]))"
      ],
      "metadata": {
        "id": "EUCURRJCr9Ik"
      },
      "execution_count": null,
      "outputs": []
    },
    {
      "cell_type": "code",
      "source": [
        "# Task: Implement a recursive Fibonacci function\n",
        "def fibonacci(n):\n",
        "    pass\n",
        "\n",
        "print(fibonacci(5))"
      ],
      "metadata": {
        "id": "cJtp3EDYsSV3"
      },
      "execution_count": null,
      "outputs": []
    },
    {
      "cell_type": "code",
      "source": [
        "# Task: Implement a function that creates a new list with squared values\n",
        "def squared_list(lst):\n",
        "    pass\n",
        "\n",
        "print(squared_list([1, 2, 3, 4]))"
      ],
      "metadata": {
        "id": "nv_c4Ow_sUGD"
      },
      "execution_count": null,
      "outputs": []
    },
    {
      "cell_type": "code",
      "source": [
        "# Task: Implement a function that checks for duplicates using a set\n",
        "def has_duplicates(lst):\n",
        "    pass\n",
        "\n",
        "print(has_duplicates([1, 2, 3, 4, 5, 3]))"
      ],
      "metadata": {
        "id": "pXb5xgsesiKc"
      },
      "execution_count": null,
      "outputs": []
    },
    {
      "cell_type": "code",
      "source": [
        "# Task: Implement a function to find the maximum element in a list\n",
        "def find_max(lst):\n",
        "    pass\n",
        "\n",
        "print(find_max([10, 20, 5, 8, 30]))"
      ],
      "metadata": {
        "id": "pPG6J7nNssGa"
      },
      "execution_count": null,
      "outputs": []
    },
    {
      "cell_type": "code",
      "source": [
        "# Task: Compare the iterative and recursive implementations of factorial\n",
        "def iterative_factorial(n):\n",
        "    pass\n",
        "\n",
        "print(iterative_factorial(5))\n",
        "\n",
        "def recursive_factorial(n):\n",
        "    pass\n",
        "\n",
        "print(recursive_factorial(5))"
      ],
      "metadata": {
        "id": "r4fpo_iHs7Cx"
      },
      "execution_count": null,
      "outputs": []
    }
  ]
}